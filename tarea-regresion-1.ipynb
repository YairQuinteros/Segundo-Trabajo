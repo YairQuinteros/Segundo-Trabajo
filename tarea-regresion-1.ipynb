{
 "cells": [
  {
   "cell_type": "markdown",
   "id": "4e23812d-5bc7-435d-b5e0-6149bf1e424e",
   "metadata": {
    "jp-MarkdownHeadingCollapsed": true
   },
   "source": [
    "### Cargamos librerias, dataframe y limpio filas"
   ]
  },
  {
   "cell_type": "code",
   "execution_count": 3,
   "id": "a0a17f28-f4fe-4b43-be44-577271ad24c6",
   "metadata": {},
   "outputs": [
    {
     "name": "stdout",
     "output_type": "stream",
     "text": [
      "Requirement already satisfied: pyreadstat in c:\\users\\francisco\\anaconda3\\lib\\site-packages (1.2.8)\n",
      "Requirement already satisfied: pandas>=1.2.0 in c:\\users\\francisco\\anaconda3\\lib\\site-packages (from pyreadstat) (2.2.2)\n",
      "Requirement already satisfied: numpy>=1.26.0 in c:\\users\\francisco\\anaconda3\\lib\\site-packages (from pandas>=1.2.0->pyreadstat) (1.26.4)\n",
      "Requirement already satisfied: python-dateutil>=2.8.2 in c:\\users\\francisco\\anaconda3\\lib\\site-packages (from pandas>=1.2.0->pyreadstat) (2.9.0.post0)\n",
      "Requirement already satisfied: pytz>=2020.1 in c:\\users\\francisco\\anaconda3\\lib\\site-packages (from pandas>=1.2.0->pyreadstat) (2024.1)\n",
      "Requirement already satisfied: tzdata>=2022.7 in c:\\users\\francisco\\anaconda3\\lib\\site-packages (from pandas>=1.2.0->pyreadstat) (2023.3)\n",
      "Requirement already satisfied: six>=1.5 in c:\\users\\francisco\\anaconda3\\lib\\site-packages (from python-dateutil>=2.8.2->pandas>=1.2.0->pyreadstat) (1.16.0)\n"
     ]
    }
   ],
   "source": [
    "import pandas as pd\n",
    "import numpy as np\n",
    "import statsmodels.api as sm\n",
    "\n",
    "!pip install pyreadstat\n",
    "import pyreadstat\n",
    "file_path = 'BASEDATOS_ARGENTINA_122_ .sav'\n",
    "\n",
    "\n",
    "df_diputados, meta = pyreadstat.read_sav(file_path)\n",
    "\n",
    "df_diputados = df_diputados.loc[~((df_diputados['ID101'] == 98) | (df_diputados['ID101'] == 99) | \n",
    "                                   (df_diputados['PRO102'] == 98) | (df_diputados['PRO112'] == 99))]"
   ]
  },
  {
   "cell_type": "markdown",
   "id": "b1d723a9-f081-4176-84d7-6e0fdf405c3a",
   "metadata": {
    "jp-MarkdownHeadingCollapsed": true
   },
   "source": [
    "### Investigamos un poco el dataframe"
   ]
  },
  {
   "cell_type": "code",
   "execution_count": 5,
   "id": "8b197e8a-41d1-43b2-a3a2-a61fb2a61733",
   "metadata": {},
   "outputs": [
    {
     "name": "stdout",
     "output_type": "stream",
     "text": [
      "<class 'pandas.core.frame.DataFrame'>\n",
      "Index: 110 entries, 0 to 110\n",
      "Columns: 266 entries, Encuestado to peso\n",
      "dtypes: float64(261), object(5)\n",
      "memory usage: 229.5+ KB\n"
     ]
    }
   ],
   "source": [
    "df_diputados.info()"
   ]
  },
  {
   "cell_type": "code",
   "execution_count": 7,
   "id": "69d688b0-0380-4864-a94a-ed9ddf890932",
   "metadata": {},
   "outputs": [
    {
     "data": {
      "text/html": [
       "<div>\n",
       "<style scoped>\n",
       "    .dataframe tbody tr th:only-of-type {\n",
       "        vertical-align: middle;\n",
       "    }\n",
       "\n",
       "    .dataframe tbody tr th {\n",
       "        vertical-align: top;\n",
       "    }\n",
       "\n",
       "    .dataframe thead th {\n",
       "        text-align: right;\n",
       "    }\n",
       "</style>\n",
       "<table border=\"1\" class=\"dataframe\">\n",
       "  <thead>\n",
       "    <tr style=\"text-align: right;\">\n",
       "      <th></th>\n",
       "      <th>Encuestado</th>\n",
       "      <th>País</th>\n",
       "      <th>legis</th>\n",
       "      <th>partido</th>\n",
       "      <th>departa</th>\n",
       "      <th>tipoelec</th>\n",
       "      <th>comision01</th>\n",
       "      <th>comision02</th>\n",
       "      <th>comision03</th>\n",
       "      <th>comision04</th>\n",
       "      <th>...</th>\n",
       "      <th>pcontacto2</th>\n",
       "      <th>pcontacto3</th>\n",
       "      <th>resultado1</th>\n",
       "      <th>resultado107</th>\n",
       "      <th>causaneg1</th>\n",
       "      <th>resultado2</th>\n",
       "      <th>causaneg2</th>\n",
       "      <th>resultado3</th>\n",
       "      <th>causaneg3</th>\n",
       "      <th>peso</th>\n",
       "    </tr>\n",
       "  </thead>\n",
       "  <tbody>\n",
       "    <tr>\n",
       "      <th>0</th>\n",
       "      <td>4.0</td>\n",
       "      <td>1.0</td>\n",
       "      <td>2022.0</td>\n",
       "      <td>20.0</td>\n",
       "      <td>12.0</td>\n",
       "      <td>2.0</td>\n",
       "      <td>7.0</td>\n",
       "      <td>16.0</td>\n",
       "      <td>31.0</td>\n",
       "      <td>NaN</td>\n",
       "      <td>...</td>\n",
       "      <td>NaN</td>\n",
       "      <td>NaN</td>\n",
       "      <td>1.0</td>\n",
       "      <td></td>\n",
       "      <td>NaN</td>\n",
       "      <td>NaN</td>\n",
       "      <td>NaN</td>\n",
       "      <td>NaN</td>\n",
       "      <td>NaN</td>\n",
       "      <td>1.040102</td>\n",
       "    </tr>\n",
       "    <tr>\n",
       "      <th>1</th>\n",
       "      <td>6.0</td>\n",
       "      <td>1.0</td>\n",
       "      <td>2022.0</td>\n",
       "      <td>7.0</td>\n",
       "      <td>2.0</td>\n",
       "      <td>2.0</td>\n",
       "      <td>2.0</td>\n",
       "      <td>3.0</td>\n",
       "      <td>15.0</td>\n",
       "      <td>25.0</td>\n",
       "      <td>...</td>\n",
       "      <td>NaN</td>\n",
       "      <td>NaN</td>\n",
       "      <td>1.0</td>\n",
       "      <td></td>\n",
       "      <td>NaN</td>\n",
       "      <td>NaN</td>\n",
       "      <td>NaN</td>\n",
       "      <td>NaN</td>\n",
       "      <td>NaN</td>\n",
       "      <td>0.938927</td>\n",
       "    </tr>\n",
       "    <tr>\n",
       "      <th>2</th>\n",
       "      <td>10.0</td>\n",
       "      <td>1.0</td>\n",
       "      <td>2022.0</td>\n",
       "      <td>2.0</td>\n",
       "      <td>15.0</td>\n",
       "      <td>2.0</td>\n",
       "      <td>1.0</td>\n",
       "      <td>2.0</td>\n",
       "      <td>3.0</td>\n",
       "      <td>4.0</td>\n",
       "      <td>...</td>\n",
       "      <td>NaN</td>\n",
       "      <td>NaN</td>\n",
       "      <td>1.0</td>\n",
       "      <td></td>\n",
       "      <td>NaN</td>\n",
       "      <td>NaN</td>\n",
       "      <td>NaN</td>\n",
       "      <td>NaN</td>\n",
       "      <td>NaN</td>\n",
       "      <td>0.838407</td>\n",
       "    </tr>\n",
       "    <tr>\n",
       "      <th>3</th>\n",
       "      <td>11.0</td>\n",
       "      <td>1.0</td>\n",
       "      <td>2022.0</td>\n",
       "      <td>7.0</td>\n",
       "      <td>2.0</td>\n",
       "      <td>2.0</td>\n",
       "      <td>5.0</td>\n",
       "      <td>15.0</td>\n",
       "      <td>27.0</td>\n",
       "      <td>35.0</td>\n",
       "      <td>...</td>\n",
       "      <td>NaN</td>\n",
       "      <td>NaN</td>\n",
       "      <td>1.0</td>\n",
       "      <td></td>\n",
       "      <td>NaN</td>\n",
       "      <td>NaN</td>\n",
       "      <td>NaN</td>\n",
       "      <td>NaN</td>\n",
       "      <td>NaN</td>\n",
       "      <td>0.938927</td>\n",
       "    </tr>\n",
       "    <tr>\n",
       "      <th>4</th>\n",
       "      <td>12.0</td>\n",
       "      <td>1.0</td>\n",
       "      <td>2022.0</td>\n",
       "      <td>29.0</td>\n",
       "      <td>9.0</td>\n",
       "      <td>2.0</td>\n",
       "      <td>37.0</td>\n",
       "      <td>38.0</td>\n",
       "      <td>NaN</td>\n",
       "      <td>NaN</td>\n",
       "      <td>...</td>\n",
       "      <td>NaN</td>\n",
       "      <td>NaN</td>\n",
       "      <td>1.0</td>\n",
       "      <td></td>\n",
       "      <td>NaN</td>\n",
       "      <td>NaN</td>\n",
       "      <td>NaN</td>\n",
       "      <td>NaN</td>\n",
       "      <td>NaN</td>\n",
       "      <td>1.096378</td>\n",
       "    </tr>\n",
       "  </tbody>\n",
       "</table>\n",
       "<p>5 rows × 266 columns</p>\n",
       "</div>"
      ],
      "text/plain": [
       "   Encuestado  País   legis  partido  departa  tipoelec  comision01  \\\n",
       "0         4.0   1.0  2022.0     20.0     12.0       2.0         7.0   \n",
       "1         6.0   1.0  2022.0      7.0      2.0       2.0         2.0   \n",
       "2        10.0   1.0  2022.0      2.0     15.0       2.0         1.0   \n",
       "3        11.0   1.0  2022.0      7.0      2.0       2.0         5.0   \n",
       "4        12.0   1.0  2022.0     29.0      9.0       2.0        37.0   \n",
       "\n",
       "   comision02  comision03  comision04  ...  pcontacto2  pcontacto3  \\\n",
       "0        16.0        31.0         NaN  ...         NaN         NaN   \n",
       "1         3.0        15.0        25.0  ...         NaN         NaN   \n",
       "2         2.0         3.0         4.0  ...         NaN         NaN   \n",
       "3        15.0        27.0        35.0  ...         NaN         NaN   \n",
       "4        38.0         NaN         NaN  ...         NaN         NaN   \n",
       "\n",
       "   resultado1  resultado107  causaneg1  resultado2  causaneg2  resultado3  \\\n",
       "0         1.0                      NaN         NaN        NaN         NaN   \n",
       "1         1.0                      NaN         NaN        NaN         NaN   \n",
       "2         1.0                      NaN         NaN        NaN         NaN   \n",
       "3         1.0                      NaN         NaN        NaN         NaN   \n",
       "4         1.0                      NaN         NaN        NaN         NaN   \n",
       "\n",
       "   causaneg3      peso  \n",
       "0        NaN  1.040102  \n",
       "1        NaN  0.938927  \n",
       "2        NaN  0.838407  \n",
       "3        NaN  0.938927  \n",
       "4        NaN  1.096378  \n",
       "\n",
       "[5 rows x 266 columns]"
      ]
     },
     "execution_count": 7,
     "metadata": {},
     "output_type": "execute_result"
    }
   ],
   "source": [
    "df_diputados.head()"
   ]
  },
  {
   "cell_type": "code",
   "execution_count": 9,
   "id": "3261bb04-d77d-4bb9-be06-3fa1778d3fec",
   "metadata": {},
   "outputs": [
    {
     "name": "stdout",
     "output_type": "stream",
     "text": [
      "['Encuestado', 'País', 'legis', 'partido', 'departa', 'tipoelec', 'comision01', 'comision02', 'comision03', 'comision04', 'comision05', 'comision06', 'comision07', 'comision08', 'comision09', 'DEM1', 'PRO101', 'PRO102', 'PRO103', 'PRO104', 'PRO105', 'PRO106', 'PRO107', 'PRO108', 'PRO109', 'PRO110', 'PRO111', 'PRO112', 'PRO113', 'PRO114', 'DEM5', 'DEM6', 'INST101', 'INST102', 'INST103', 'INST104', 'INST105', 'INST106', 'INST107', 'INST108', 'INST109', 'INST110', 'INST111', 'INST112', 'INST113', 'INST114', 'INST115', 'ELE1', 'ELE201', 'IDP101', 'IDP102', 'IDP103', 'IDP104', 'IDP105', 'IDLN101', 'IDLN102', 'IDLN103', 'IDLN104', 'IDLN105', 'IDLN106', 'PP101', 'PP102', 'PP103', 'PP104', 'PP105', 'PP106', 'PP107', 'PP1a01', 'PP1a02', 'DIS1', 'DIS2', 'DIS3', 'REP1', 'REP2', 'CAMP401', 'CAMP402', 'CAMP403', 'CAMP404', 'CAND101', 'MED101', 'MED102', 'MED103', 'MED104', 'CLIEN2a01', 'CLIEN2a02', 'CLIEN2a03', 'CLIEN2a04', 'CLIEN2a05', 'CLIEN4', 'ACT101', 'ACT102', 'ACT103', 'ACT104', 'ACT105', 'VINC101', 'VINC102', 'VINC103', 'VINC104', 'VINC105', 'VINC106', 'VINC107', 'PJ101', 'FFAA101', 'EM101', 'INM101', 'INM102', 'INM103', 'INM104', 'INM105', 'INM106', 'GEN101', 'GEN102', 'GEN103', 'GEN104', 'GEN105', 'GEN201', 'GEN202', 'GEN203', 'GEN204', 'GEN401', 'GEN402', 'GEN403', 'GEN404', 'GEN405', 'CO201', 'CO202', 'CO203', 'CO204', 'CO205', 'CO206', 'CO207', 'CO208', 'CO209', 'CO210', 'CO211', 'CO212', 'CO213', 'CO3', 'ROES101', 'ROES102', 'ROES103', 'ROES104', 'ROES105', 'PRO2', 'ROES1A01', 'ROES1A02', 'ROES1A03', 'ROES1A04', 'BID401', 'BID501', 'BID502', 'CLIMA201', 'TR101', 'TR102', 'TR2', 'MPOL101', 'MPOL201', 'MPOL102', 'MPOL202', 'MPOL103', 'MPOL203', 'TR3', 'TR3a101', 'TR3a102', 'TR3a201', 'TR3a202', 'TR3a301', 'TR3a302', 'POL1', 'TR501', 'TR502', 'TR503', 'TR5a101', 'TR5a102', 'TR5a103', 'TR5a201', 'TR5a202', 'TR5a203', 'TR5a0301', 'TR5a0302', 'TR5a0303', 'EXPP1', 'EXPP1a', 'EXPP1b', 'AGL1', 'REP301', 'REP302', 'REP401', 'REP402', 'REP601', 'REP602', 'REP603', 'REP5', 'LEG3', 'SOCP1', 'SOCP2', 'SOCP2a01', 'SOCP2a02', 'SOCP2a03', 'SOCP2b01', 'SOCP2b02', 'SOCP2b03', 'SOCP2c01', 'SOCP2c02', 'SOCP2c03', 'SOCD1', 'SOCD2', 'SOCD3', 'SOCD3a', 'CONF101', 'BID1', 'BID301', 'BID201', 'BID202', 'VAL101', 'VAL102', 'VAL103', 'VAL104', 'VAL105', 'ID101', 'ID201', 'RE1', 'RE1a', 'RE1b', 'SOCD4', 'SOCD5', 'SOCD6', 'SOCD10', 'SOCD10a', 'SOCD10b', 'SOCD7', 'SOCD8', 'RED101', 'RED102', 'RED103', 'RED104', 'SOCD9', 'SOCD9a', 'ING1', 'ING3', 'V1', 'V201', 'V3', 'Duración', 'entrev', 'fecha1', 'hora1', 'fecha2', 'v2', 'fecha3', 'v4', 'contacto1', 'contacto2', 'contacto3', 'pcontacto1', 'pcontacto106', 'pcontacto2', 'pcontacto3', 'resultado1', 'resultado107', 'causaneg1', 'resultado2', 'causaneg2', 'resultado3', 'causaneg3', 'peso']\n"
     ]
    }
   ],
   "source": [
    "print(df_diputados.columns.tolist())"
   ]
  },
  {
   "cell_type": "code",
   "execution_count": 11,
   "id": "21a72e7a-b317-4266-acbc-ed55e25968fa",
   "metadata": {},
   "outputs": [
    {
     "name": "stdout",
     "output_type": "stream",
     "text": [
      "     PRO101  PRO102  PRO103  PRO104  PRO105  PRO106  PRO107  PRO108  PRO109\n",
      "0       8.0     7.0     5.0     8.0     7.0     8.0     7.0     8.0     7.0\n",
      "1      10.0     9.0     7.0     9.0     7.0    10.0     9.0     7.0    10.0\n",
      "2      10.0     9.0     7.0     8.0     5.0     7.0     7.0     7.0     9.0\n",
      "3      10.0    10.0     6.0    10.0     6.0     9.0     6.0     6.0     7.0\n",
      "4      10.0     3.0     7.0     8.0     9.0    10.0    10.0     6.0    10.0\n",
      "..      ...     ...     ...     ...     ...     ...     ...     ...     ...\n",
      "106    10.0     8.0     9.0     7.0     5.0     9.0     9.0    10.0     7.0\n",
      "107    10.0     8.0     6.0     8.0     1.0    10.0     5.0    10.0    10.0\n",
      "108    10.0    10.0     8.0    10.0     7.0    10.0     9.0    10.0    10.0\n",
      "109    10.0     9.0     8.0    10.0     7.0    10.0     7.0     8.0    10.0\n",
      "110    10.0     8.0    10.0    10.0     7.0    10.0     8.0     9.0     9.0\n",
      "\n",
      "[110 rows x 9 columns]\n"
     ]
    }
   ],
   "source": [
    "print(df_diputados[['PRO101', 'PRO102', 'PRO103', 'PRO104', 'PRO105', 'PRO106', 'PRO107', 'PRO108', 'PRO109']]) #Verifico los valores que espero encontrar"
   ]
  },
  {
   "cell_type": "code",
   "execution_count": 15,
   "id": "104aebbe-37fe-41fd-bf1b-602844d648e4",
   "metadata": {},
   "outputs": [
    {
     "name": "stdout",
     "output_type": "stream",
     "text": [
      "[ 7.  4. 10.  5.  6.  9.  3.  8.  2.]\n",
      "[5. 7. 3. 9. 1. 6. 2. 4. 8.]\n",
      "                            OLS Regression Results                            \n",
      "==============================================================================\n",
      "Dep. Variable:                CONF101   R-squared:                       0.049\n",
      "Model:                            OLS   Adj. R-squared:                  0.041\n",
      "Method:                 Least Squares   F-statistic:                     5.607\n",
      "Date:                Thu, 24 Oct 2024   Prob (F-statistic):             0.0197\n",
      "Time:                        21:46:33   Log-Likelihood:                -210.84\n",
      "No. Observations:                 110   AIC:                             425.7\n",
      "Df Residuals:                     108   BIC:                             431.1\n",
      "Df Model:                           1                                         \n",
      "Covariance Type:            nonrobust                                         \n",
      "==============================================================================\n",
      "                 coef    std err          t      P>|t|      [0.025      0.975]\n",
      "------------------------------------------------------------------------------\n",
      "const          7.4140      0.439     16.904      0.000       6.545       8.283\n",
      "ID101         -0.2025      0.086     -2.368      0.020      -0.372      -0.033\n",
      "==============================================================================\n",
      "Omnibus:                        0.320   Durbin-Watson:                   2.136\n",
      "Prob(Omnibus):                  0.852   Jarque-Bera (JB):                0.490\n",
      "Skew:                          -0.062   Prob(JB):                        0.783\n",
      "Kurtosis:                       2.697   Cond. No.                         14.7\n",
      "==============================================================================\n",
      "\n",
      "Notes:\n",
      "[1] Standard Errors assume that the covariance matrix of the errors is correctly specified.\n"
     ]
    }
   ],
   "source": [
    "#CONF101 es: del 0 al 10 cuanto se puede confiar en la mayoria de la gente, siendo 0 lo minimo y 10 lo maximo.\n",
    "#ID101: es la autoubicacion en la escala ideologica, siendo 1 izquierda y 10 derecha\n",
    "\n",
    "#verifico que sus valores esten dentro del rango esperado\n",
    "print(df_diputados['CONF101'].unique())\n",
    "print(df_diputados['ID101'].unique())\n",
    "\n",
    "#asigno columnas a variables\n",
    "x1 = df_diputados['ID101']\n",
    "y1 = df_diputados['CONF101']\n",
    "\n",
    "#añado constante\n",
    "x1 = sm.add_constant(x1)\n",
    "\n",
    "#ejecuto el modelo\n",
    "modelo1 = sm.OLS(y1, x1).fit()\n",
    "print(modelo1.summary())"
   ]
  },
  {
   "cell_type": "markdown",
   "id": "55df978e",
   "metadata": {},
   "source": []
  },
  {
   "cell_type": "code",
   "execution_count": 17,
   "id": "b4a565a6-cf35-4678-931b-cf4375075d24",
   "metadata": {},
   "outputs": [
    {
     "name": "stdout",
     "output_type": "stream",
     "text": [
      "[2. 1. 7. 4. 3. 5. 6.]\n",
      "[ 7.  1. 10.  2.  5.  8.  4.  9.  6.  3. 99.]\n",
      "                            OLS Regression Results                            \n",
      "==============================================================================\n",
      "Dep. Variable:                 VAL103   R-squared:                       0.093\n",
      "Model:                            OLS   Adj. R-squared:                  0.084\n",
      "Method:                 Least Squares   F-statistic:                     10.93\n",
      "Date:                Thu, 24 Oct 2024   Prob (F-statistic):            0.00129\n",
      "Time:                        21:46:35   Log-Likelihood:                -285.31\n",
      "No. Observations:                 109   AIC:                             574.6\n",
      "Df Residuals:                     107   BIC:                             580.0\n",
      "Df Model:                           1                                         \n",
      "Covariance Type:            nonrobust                                         \n",
      "==============================================================================\n",
      "                 coef    std err          t      P>|t|      [0.025      0.975]\n",
      "------------------------------------------------------------------------------\n",
      "const          6.2590      0.543     11.536      0.000       5.183       7.335\n",
      "ROES101        0.5073      0.153      3.306      0.001       0.203       0.811\n",
      "==============================================================================\n",
      "Omnibus:                       15.158   Durbin-Watson:                   2.050\n",
      "Prob(Omnibus):                  0.001   Jarque-Bera (JB):               18.213\n",
      "Skew:                          -0.989   Prob(JB):                     0.000111\n",
      "Kurtosis:                       2.693   Cond. No.                         6.31\n",
      "==============================================================================\n",
      "\n",
      "Notes:\n",
      "[1] Standard Errors assume that the covariance matrix of the errors is correctly specified.\n"
     ]
    }
   ],
   "source": [
    "#ROES101 es: del 1 al 7 que tan de acuerdo se está con que el sector público, anques que el privado, debe proveer los servicios de salud\n",
    "#VAL103: del 1 al 10 que tan de acuerdo se está con la legalización del aborto\n",
    "\n",
    "#verifico que sus valores esten dentro del rango esperado\n",
    "print(df_diputados['ROES101'].unique())\n",
    "print(df_diputados['VAL103'].unique())\n",
    "\n",
    "#elimino valores no deseados\n",
    "df_diputados = df_diputados.loc[~(df_diputados['VAL103'] == 99)]\n",
    "\n",
    "#asigno columnas a variables\n",
    "x2 = df_diputados['ROES101']\n",
    "y2 = df_diputados['VAL103']\n",
    "\n",
    "#añado constante\n",
    "x2 = sm.add_constant(x2)\n",
    "\n",
    "#ejecuto el modelo\n",
    "modelo2 = sm.OLS(y2, x2).fit()\n",
    "print(modelo2.summary())"
   ]
  },
  {
   "cell_type": "code",
   "execution_count": 60,
   "id": "9c0ff6ab-3590-463e-bebc-ccf23602b7d9",
   "metadata": {},
   "outputs": [
    {
     "name": "stdout",
     "output_type": "stream",
     "text": [
      "[5. 7. 3. 9. 1. 6. 2. 4. 8.]\n",
      "[ 7. 10.  9.  5.  8.  2.  3.  4.  6.]\n",
      "                            OLS Regression Results                            \n",
      "==============================================================================\n",
      "Dep. Variable:                  ID101   R-squared:                       0.235\n",
      "Model:                            OLS   Adj. R-squared:                  0.227\n",
      "Method:                 Least Squares   F-statistic:                     32.79\n",
      "Date:                Thu, 24 Oct 2024   Prob (F-statistic):           9.51e-08\n",
      "Time:                        21:51:35   Log-Likelihood:                -207.47\n",
      "No. Observations:                 109   AIC:                             418.9\n",
      "Df Residuals:                     107   BIC:                             424.3\n",
      "Df Model:                           1                                         \n",
      "Covariance Type:            nonrobust                                         \n",
      "==============================================================================\n",
      "                 coef    std err          t      P>|t|      [0.025      0.975]\n",
      "------------------------------------------------------------------------------\n",
      "const          1.4898      0.594      2.508      0.014       0.312       2.667\n",
      "PRO109         0.4288      0.075      5.726      0.000       0.280       0.577\n",
      "==============================================================================\n",
      "Omnibus:                        2.275   Durbin-Watson:                   2.380\n",
      "Prob(Omnibus):                  0.321   Jarque-Bera (JB):                1.780\n",
      "Skew:                          -0.296   Prob(JB):                        0.411\n",
      "Kurtosis:                       3.204   Cond. No.                         30.5\n",
      "==============================================================================\n",
      "\n",
      "Notes:\n",
      "[1] Standard Errors assume that the covariance matrix of the errors is correctly specified.\n"
     ]
    }
   ],
   "source": [
    "#ID101: es la autoubicacion en la escala ideologica, siendo 1 izquierda y 10 derecha\n",
    "#PRO107: del 1 al 10, que tanto se cree que la corrupcion es un tema importante en la Argentina de hoy\n",
    "\n",
    "#verifico que sus valores esten dentro del rango esperado\n",
    "print(df_diputados['ID101'].unique())\n",
    "print(df_diputados['PRO109'].unique())\n",
    "\n",
    "#elimino valores no deseados\n",
    "\n",
    "#asigno columnas a variables\n",
    "x3 = df_diputados['PRO109']\n",
    "y3 = df_diputados['ID101']\n",
    "\n",
    "#añado constante\n",
    "x3 = sm.add_constant(x3)\n",
    "\n",
    "#ejecuto el modelo\n",
    "modelo3 = sm.OLS(y3, x3).fit()\n",
    "print(modelo3.summary())"
   ]
  },
  {
   "cell_type": "code",
   "execution_count": null,
   "id": "b97328a0-899e-4645-9c8c-c7bcb9b796e8",
   "metadata": {},
   "outputs": [],
   "source": []
  },
  {
   "cell_type": "code",
   "execution_count": null,
   "id": "0ececaee-8078-445d-a73d-d6155e9aacea",
   "metadata": {},
   "outputs": [],
   "source": []
  }
 ],
 "metadata": {
  "kernelspec": {
   "display_name": "Python 3 (ipykernel)",
   "language": "python",
   "name": "python3"
  },
  "language_info": {
   "codemirror_mode": {
    "name": "ipython",
    "version": 3
   },
   "file_extension": ".py",
   "mimetype": "text/x-python",
   "name": "python",
   "nbconvert_exporter": "python",
   "pygments_lexer": "ipython3",
   "version": "3.12.4"
  }
 },
 "nbformat": 4,
 "nbformat_minor": 5
}
